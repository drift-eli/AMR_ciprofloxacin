{
 "cells": [
  {
   "cell_type": "markdown",
   "metadata": {},
   "source": [
    "## This notebook runs a RF on the whole MIC data (only train set of course) and save the 50 best features ranked by feature_importances"
   ]
  },
  {
   "cell_type": "code",
   "execution_count": 1,
   "metadata": {},
   "outputs": [],
   "source": [
    "import sys\n",
    "sys.path.remove('/home/pataki/.ipython')\n",
    "sys.path.remove('/home/pataki/.local/lib/python3.6/site-packages')"
   ]
  },
  {
   "cell_type": "code",
   "execution_count": 2,
   "metadata": {},
   "outputs": [],
   "source": [
    "import numpy as np\n",
    "import pandas as pd\n",
    "import sklearn as sk\n",
    "import matplotlib.pyplot as plt\n",
    "from sklearn.ensemble import RandomForestRegressor\n",
    "from sklearn.model_selection import train_test_split, cross_val_predict\n",
    "\n",
    "%matplotlib inline"
   ]
  },
  {
   "cell_type": "code",
   "execution_count": 3,
   "metadata": {},
   "outputs": [
    {
     "data": {
      "text/plain": [
       "('0.25.1', '1.16.5', '0.21.2')"
      ]
     },
     "execution_count": 3,
     "metadata": {},
     "output_type": "execute_result"
    }
   ],
   "source": [
    "pd.__version__, np.__version__, sk.__version__"
   ]
  },
  {
   "cell_type": "code",
   "execution_count": 4,
   "metadata": {},
   "outputs": [],
   "source": [
    "# need to set manually the location of these files\n",
    "base = '/mnt/net/onco2/data0/users/pataki/AMR_pred/final_processed/'\n",
    "\n",
    "metaDF      = pd.read_csv(f'{base}meta.tsv', sep='\\t')\n",
    "\n",
    "micDF       = pd.read_csv(f'{base}ciprofloxacin_MICs.csv', dtype={'measurement':float})\n",
    "zoneDF      = pd.read_csv(f'{base}ciprofloxacin_zone_diameters.csv', dtype={'measurement':float})\n",
    "micDF  = micDF.append(zoneDF)\n",
    "\n",
    "resfinderDF = pd.read_csv(f'{base}resfinder_results.csv')\n",
    "snpDF       = pd.read_csv(f'{base}SNP_matrix.tsv', sep='\\t', low_memory=False)\n",
    "# need 64 GB RAM"
   ]
  },
  {
   "cell_type": "code",
   "execution_count": 5,
   "metadata": {},
   "outputs": [],
   "source": [
    "# add new features: if any qnr appears + if any qnrS appears\n",
    "qnr  = [i for i in resfinderDF.columns.tolist() if 'qnr' in i]\n",
    "qnrS = [i for i in resfinderDF.columns.tolist() if 'qnrS' in i]\n",
    "\n",
    "resfinderDF['has_qnr']  = (resfinderDF[qnr].sum(1) > 0).astype('int')\n",
    "resfinderDF['has_qnrS'] = (resfinderDF[qnrS].sum(1) > 0).astype('int')"
   ]
  },
  {
   "cell_type": "code",
   "execution_count": 6,
   "metadata": {},
   "outputs": [],
   "source": [
    "mic_resfinderDF = pd.merge(micDF[['sample_alias', 'measurement_units', 'measurement']], \n",
    "                           resfinderDF, on='sample_alias', how='inner')\n",
    "\n",
    "mic_resfinderDF = pd.merge(metaDF[['sample_alias', 'country']], \n",
    "                           mic_resfinderDF, on='sample_alias', how='inner')\n",
    "\n",
    "allDF = pd.merge(mic_resfinderDF, snpDF, on='sample_alias', how='inner')"
   ]
  },
  {
   "cell_type": "code",
   "execution_count": 7,
   "metadata": {},
   "outputs": [
    {
     "data": {
      "text/plain": [
       "((807, 8), (807, 837742))"
      ]
     },
     "execution_count": 7,
     "metadata": {},
     "output_type": "execute_result"
    }
   ],
   "source": [
    "metaDF.shape, allDF.shape"
   ]
  },
  {
   "cell_type": "markdown",
   "metadata": {},
   "source": [
    "we don't want to touch the test data, separate it!"
   ]
  },
  {
   "cell_type": "code",
   "execution_count": 8,
   "metadata": {},
   "outputs": [
    {
     "data": {
      "text/plain": [
       "(438, 266)"
      ]
     },
     "execution_count": 8,
     "metadata": {},
     "output_type": "execute_result"
    }
   ],
   "source": [
    "trainDF = allDF[(~allDF.country.isnull()) & (allDF.measurement_units == 'mg/L')]\n",
    "testDF  = allDF[(allDF.country.isnull())  & (allDF.measurement_units == 'mg/L')]\n",
    "\n",
    "len(trainDF), len(testDF)"
   ]
  },
  {
   "cell_type": "code",
   "execution_count": 9,
   "metadata": {},
   "outputs": [
    {
     "name": "stderr",
     "output_type": "stream",
     "text": [
      "/home/pataki/.conda/envs/AMR/lib/python3.6/site-packages/pandas/core/frame.py:4102: SettingWithCopyWarning: \n",
      "A value is trying to be set on a copy of a slice from a DataFrame\n",
      "\n",
      "See the caveats in the documentation: http://pandas.pydata.org/pandas-docs/stable/user_guide/indexing.html#returning-a-view-versus-a-copy\n",
      "  errors=errors,\n"
     ]
    }
   ],
   "source": [
    "trainDF.drop(['sample_alias', 'measurement_units'], axis=1, inplace=True)"
   ]
  },
  {
   "cell_type": "code",
   "execution_count": 10,
   "metadata": {},
   "outputs": [
    {
     "data": {
      "text/html": [
       "<div>\n",
       "<style scoped>\n",
       "    .dataframe tbody tr th:only-of-type {\n",
       "        vertical-align: middle;\n",
       "    }\n",
       "\n",
       "    .dataframe tbody tr th {\n",
       "        vertical-align: top;\n",
       "    }\n",
       "\n",
       "    .dataframe thead th {\n",
       "        text-align: right;\n",
       "    }\n",
       "</style>\n",
       "<table border=\"1\" class=\"dataframe\">\n",
       "  <thead>\n",
       "    <tr style=\"text-align: right;\">\n",
       "      <th></th>\n",
       "      <th>country</th>\n",
       "      <th>measurement</th>\n",
       "      <th>ARR-2_1_HQ141279</th>\n",
       "      <th>ARR-3_1_JF806499</th>\n",
       "      <th>ARR-3_4_FM207631</th>\n",
       "      <th>aac(3)-IIa_1_X51534</th>\n",
       "      <th>aac(3)-IIa_2_AY138987</th>\n",
       "      <th>aac(3)-IIa_3_X13543</th>\n",
       "      <th>aac(3)-IIa_4_L22613</th>\n",
       "      <th>aac(3)-IIa_5_FJ012882</th>\n",
       "      <th>...</th>\n",
       "      <th>CP009074.1_9656</th>\n",
       "      <th>CP009074.1_97</th>\n",
       "      <th>CP009074.1_9776</th>\n",
       "      <th>CP009074.1_9803</th>\n",
       "      <th>CP009074.1_9867</th>\n",
       "      <th>CP009074.1_9891</th>\n",
       "      <th>CP009074.1_9932</th>\n",
       "      <th>CP009074.1_994</th>\n",
       "      <th>CP009074.1_9950</th>\n",
       "      <th>CP009074.1_997</th>\n",
       "    </tr>\n",
       "  </thead>\n",
       "  <tbody>\n",
       "    <tr>\n",
       "      <td>0</td>\n",
       "      <td>Denmark</td>\n",
       "      <td>0.015</td>\n",
       "      <td>0</td>\n",
       "      <td>0</td>\n",
       "      <td>0</td>\n",
       "      <td>0</td>\n",
       "      <td>0</td>\n",
       "      <td>0</td>\n",
       "      <td>0</td>\n",
       "      <td>0</td>\n",
       "      <td>...</td>\n",
       "      <td>0</td>\n",
       "      <td>0</td>\n",
       "      <td>0</td>\n",
       "      <td>0</td>\n",
       "      <td>0</td>\n",
       "      <td>0</td>\n",
       "      <td>0</td>\n",
       "      <td>0</td>\n",
       "      <td>0</td>\n",
       "      <td>0</td>\n",
       "    </tr>\n",
       "    <tr>\n",
       "      <td>1</td>\n",
       "      <td>Denmark</td>\n",
       "      <td>0.015</td>\n",
       "      <td>0</td>\n",
       "      <td>0</td>\n",
       "      <td>1</td>\n",
       "      <td>0</td>\n",
       "      <td>0</td>\n",
       "      <td>0</td>\n",
       "      <td>0</td>\n",
       "      <td>0</td>\n",
       "      <td>...</td>\n",
       "      <td>0</td>\n",
       "      <td>0</td>\n",
       "      <td>0</td>\n",
       "      <td>0</td>\n",
       "      <td>0</td>\n",
       "      <td>0</td>\n",
       "      <td>0</td>\n",
       "      <td>0</td>\n",
       "      <td>0</td>\n",
       "      <td>0</td>\n",
       "    </tr>\n",
       "    <tr>\n",
       "      <td>2</td>\n",
       "      <td>Denmark</td>\n",
       "      <td>0.015</td>\n",
       "      <td>0</td>\n",
       "      <td>0</td>\n",
       "      <td>1</td>\n",
       "      <td>0</td>\n",
       "      <td>0</td>\n",
       "      <td>0</td>\n",
       "      <td>0</td>\n",
       "      <td>0</td>\n",
       "      <td>...</td>\n",
       "      <td>0</td>\n",
       "      <td>0</td>\n",
       "      <td>0</td>\n",
       "      <td>0</td>\n",
       "      <td>0</td>\n",
       "      <td>0</td>\n",
       "      <td>0</td>\n",
       "      <td>0</td>\n",
       "      <td>0</td>\n",
       "      <td>0</td>\n",
       "    </tr>\n",
       "    <tr>\n",
       "      <td>3</td>\n",
       "      <td>Denmark</td>\n",
       "      <td>0.015</td>\n",
       "      <td>0</td>\n",
       "      <td>0</td>\n",
       "      <td>1</td>\n",
       "      <td>0</td>\n",
       "      <td>0</td>\n",
       "      <td>0</td>\n",
       "      <td>0</td>\n",
       "      <td>0</td>\n",
       "      <td>...</td>\n",
       "      <td>0</td>\n",
       "      <td>0</td>\n",
       "      <td>0</td>\n",
       "      <td>0</td>\n",
       "      <td>0</td>\n",
       "      <td>0</td>\n",
       "      <td>0</td>\n",
       "      <td>0</td>\n",
       "      <td>0</td>\n",
       "      <td>0</td>\n",
       "    </tr>\n",
       "    <tr>\n",
       "      <td>4</td>\n",
       "      <td>Denmark</td>\n",
       "      <td>0.015</td>\n",
       "      <td>0</td>\n",
       "      <td>0</td>\n",
       "      <td>0</td>\n",
       "      <td>0</td>\n",
       "      <td>0</td>\n",
       "      <td>0</td>\n",
       "      <td>0</td>\n",
       "      <td>0</td>\n",
       "      <td>...</td>\n",
       "      <td>0</td>\n",
       "      <td>0</td>\n",
       "      <td>0</td>\n",
       "      <td>0</td>\n",
       "      <td>0</td>\n",
       "      <td>0</td>\n",
       "      <td>0</td>\n",
       "      <td>0</td>\n",
       "      <td>0</td>\n",
       "      <td>0</td>\n",
       "    </tr>\n",
       "  </tbody>\n",
       "</table>\n",
       "<p>5 rows × 837740 columns</p>\n",
       "</div>"
      ],
      "text/plain": [
       "   country  measurement  ARR-2_1_HQ141279  ARR-3_1_JF806499  ARR-3_4_FM207631  \\\n",
       "0  Denmark        0.015                 0                 0                 0   \n",
       "1  Denmark        0.015                 0                 0                 1   \n",
       "2  Denmark        0.015                 0                 0                 1   \n",
       "3  Denmark        0.015                 0                 0                 1   \n",
       "4  Denmark        0.015                 0                 0                 0   \n",
       "\n",
       "   aac(3)-IIa_1_X51534  aac(3)-IIa_2_AY138987  aac(3)-IIa_3_X13543  \\\n",
       "0                    0                      0                    0   \n",
       "1                    0                      0                    0   \n",
       "2                    0                      0                    0   \n",
       "3                    0                      0                    0   \n",
       "4                    0                      0                    0   \n",
       "\n",
       "   aac(3)-IIa_4_L22613  aac(3)-IIa_5_FJ012882  ...  CP009074.1_9656  \\\n",
       "0                    0                      0  ...                0   \n",
       "1                    0                      0  ...                0   \n",
       "2                    0                      0  ...                0   \n",
       "3                    0                      0  ...                0   \n",
       "4                    0                      0  ...                0   \n",
       "\n",
       "   CP009074.1_97  CP009074.1_9776  CP009074.1_9803  CP009074.1_9867  \\\n",
       "0              0                0                0                0   \n",
       "1              0                0                0                0   \n",
       "2              0                0                0                0   \n",
       "3              0                0                0                0   \n",
       "4              0                0                0                0   \n",
       "\n",
       "   CP009074.1_9891  CP009074.1_9932  CP009074.1_994  CP009074.1_9950  \\\n",
       "0                0                0               0                0   \n",
       "1                0                0               0                0   \n",
       "2                0                0               0                0   \n",
       "3                0                0               0                0   \n",
       "4                0                0               0                0   \n",
       "\n",
       "   CP009074.1_997  \n",
       "0               0  \n",
       "1               0  \n",
       "2               0  \n",
       "3               0  \n",
       "4               0  \n",
       "\n",
       "[5 rows x 837740 columns]"
      ]
     },
     "execution_count": 10,
     "metadata": {},
     "output_type": "execute_result"
    }
   ],
   "source": [
    "trainDF.head()"
   ]
  },
  {
   "cell_type": "markdown",
   "metadata": {},
   "source": [
    "**save feature importances for each fold in a leave-one-country-out validation**"
   ]
  },
  {
   "cell_type": "code",
   "execution_count": 12,
   "metadata": {},
   "outputs": [
    {
     "name": "stdout",
     "output_type": "stream",
     "text": [
      "Denmark\n",
      "Italy\n",
      "United Kingdom\n",
      "USA\n",
      "Viet Nam\n"
     ]
    }
   ],
   "source": [
    "rf = RandomForestRegressor(bootstrap=True, criterion='mse', max_depth=None,\n",
    "           max_features='auto', max_leaf_nodes=None,\n",
    "           min_impurity_decrease=0.0, min_impurity_split=None,\n",
    "           min_samples_leaf=1, min_samples_split=2,\n",
    "           min_weight_fraction_leaf=0.0, n_estimators=200, n_jobs=-1,\n",
    "           oob_score=False, random_state=42, verbose=0, warm_start=False)\n",
    "\n",
    "importancesDF = pd.DataFrame()\n",
    "predictions  = []\n",
    "measurements = []\n",
    "\n",
    "for i in pd.unique(trainDF.country.values):\n",
    "    print(i)\n",
    "    train_X = trainDF[trainDF.country != i]\n",
    "    train_y = train_X.pop('measurement')\n",
    "    train_X.pop('country')\n",
    "    \n",
    "    test_X = trainDF[trainDF.country == i]\n",
    "    test_y = test_X.pop('measurement')\n",
    "    test_X.pop('country')\n",
    "    \n",
    "    rf.fit(train_X, np.log2(train_y))\n",
    "    impDF = pd.DataFrame({'imp':rf.feature_importances_, 'feat':train_X.columns})\n",
    "    impDF['country'] = i\n",
    "    importancesDF = importancesDF.append(impDF)\n",
    "    \n",
    "    predictions  = predictions + list(2**np.round(rf.predict(test_X)))\n",
    "    measurements = measurements + list(test_y)"
   ]
  },
  {
   "cell_type": "markdown",
   "metadata": {},
   "source": [
    "### Check feature importances for each fold and the aggregation"
   ]
  },
  {
   "cell_type": "code",
   "execution_count": 13,
   "metadata": {},
   "outputs": [],
   "source": [
    "imp_pivot = pd.pivot_table(importancesDF[importancesDF.imp>0], \n",
    "                           index='feat', columns='country', values='imp', fill_value=0)\n",
    "imp_pivot['sum'] = imp_pivot.sum(1)\n",
    "imp_pivot.sort_values('sum', ascending=False).head(50).to_csv(f'{base}top50_important_features.csv')"
   ]
  },
  {
   "cell_type": "code",
   "execution_count": 14,
   "metadata": {},
   "outputs": [
    {
     "data": {
      "text/html": [
       "<div>\n",
       "<style scoped>\n",
       "    .dataframe tbody tr th:only-of-type {\n",
       "        vertical-align: middle;\n",
       "    }\n",
       "\n",
       "    .dataframe tbody tr th {\n",
       "        vertical-align: top;\n",
       "    }\n",
       "\n",
       "    .dataframe thead th {\n",
       "        text-align: right;\n",
       "    }\n",
       "</style>\n",
       "<table border=\"1\" class=\"dataframe\">\n",
       "  <thead>\n",
       "    <tr style=\"text-align: right;\">\n",
       "      <th>country</th>\n",
       "      <th>Denmark</th>\n",
       "      <th>Italy</th>\n",
       "      <th>USA</th>\n",
       "      <th>United Kingdom</th>\n",
       "      <th>Viet Nam</th>\n",
       "      <th>sum</th>\n",
       "    </tr>\n",
       "    <tr>\n",
       "      <th>feat</th>\n",
       "      <th></th>\n",
       "      <th></th>\n",
       "      <th></th>\n",
       "      <th></th>\n",
       "      <th></th>\n",
       "      <th></th>\n",
       "    </tr>\n",
       "  </thead>\n",
       "  <tbody>\n",
       "    <tr>\n",
       "      <td>CP009072.1_167295</td>\n",
       "      <td>0.555</td>\n",
       "      <td>0.567</td>\n",
       "      <td>0.570</td>\n",
       "      <td>0.558</td>\n",
       "      <td>0.010</td>\n",
       "      <td>2.260</td>\n",
       "    </tr>\n",
       "    <tr>\n",
       "      <td>CP009072.1_167306</td>\n",
       "      <td>0.114</td>\n",
       "      <td>0.148</td>\n",
       "      <td>0.107</td>\n",
       "      <td>0.141</td>\n",
       "      <td>0.690</td>\n",
       "      <td>1.200</td>\n",
       "    </tr>\n",
       "    <tr>\n",
       "      <td>CP009072.1_1589734</td>\n",
       "      <td>0.181</td>\n",
       "      <td>0.151</td>\n",
       "      <td>0.199</td>\n",
       "      <td>0.172</td>\n",
       "      <td>0.001</td>\n",
       "      <td>0.705</td>\n",
       "    </tr>\n",
       "    <tr>\n",
       "      <td>has_qnrS</td>\n",
       "      <td>0.042</td>\n",
       "      <td>0.039</td>\n",
       "      <td>0.019</td>\n",
       "      <td>0.037</td>\n",
       "      <td>0.004</td>\n",
       "      <td>0.140</td>\n",
       "    </tr>\n",
       "    <tr>\n",
       "      <td>qnrS1_1_AB187515</td>\n",
       "      <td>0.012</td>\n",
       "      <td>0.007</td>\n",
       "      <td>0.017</td>\n",
       "      <td>0.004</td>\n",
       "      <td>0.000</td>\n",
       "      <td>0.041</td>\n",
       "    </tr>\n",
       "    <tr>\n",
       "      <td>blaCTX-M-55_1_DQ810789</td>\n",
       "      <td>0.002</td>\n",
       "      <td>0.009</td>\n",
       "      <td>0.009</td>\n",
       "      <td>0.013</td>\n",
       "      <td>0.000</td>\n",
       "      <td>0.033</td>\n",
       "    </tr>\n",
       "    <tr>\n",
       "      <td>blaVIM-48_1_KY362199</td>\n",
       "      <td>0.004</td>\n",
       "      <td>0.001</td>\n",
       "      <td>0.016</td>\n",
       "      <td>0.002</td>\n",
       "      <td>0.000</td>\n",
       "      <td>0.022</td>\n",
       "    </tr>\n",
       "    <tr>\n",
       "      <td>CP009072.1_3517597</td>\n",
       "      <td>0.000</td>\n",
       "      <td>0.000</td>\n",
       "      <td>0.000</td>\n",
       "      <td>0.000</td>\n",
       "      <td>0.013</td>\n",
       "      <td>0.014</td>\n",
       "    </tr>\n",
       "    <tr>\n",
       "      <td>CP009072.1_1734215</td>\n",
       "      <td>0.000</td>\n",
       "      <td>0.000</td>\n",
       "      <td>0.000</td>\n",
       "      <td>0.000</td>\n",
       "      <td>0.008</td>\n",
       "      <td>0.009</td>\n",
       "    </tr>\n",
       "    <tr>\n",
       "      <td>blaCTX-M-14_1_AF252622</td>\n",
       "      <td>0.000</td>\n",
       "      <td>0.002</td>\n",
       "      <td>0.002</td>\n",
       "      <td>0.003</td>\n",
       "      <td>0.000</td>\n",
       "      <td>0.008</td>\n",
       "    </tr>\n",
       "    <tr>\n",
       "      <td>CP009072.1_3517591</td>\n",
       "      <td>0.000</td>\n",
       "      <td>0.000</td>\n",
       "      <td>0.000</td>\n",
       "      <td>0.000</td>\n",
       "      <td>0.007</td>\n",
       "      <td>0.007</td>\n",
       "    </tr>\n",
       "    <tr>\n",
       "      <td>CP009072.1_113480</td>\n",
       "      <td>0.000</td>\n",
       "      <td>0.000</td>\n",
       "      <td>0.000</td>\n",
       "      <td>0.000</td>\n",
       "      <td>0.005</td>\n",
       "      <td>0.006</td>\n",
       "    </tr>\n",
       "    <tr>\n",
       "      <td>CP009072.1_1205372</td>\n",
       "      <td>0.003</td>\n",
       "      <td>0.002</td>\n",
       "      <td>0.001</td>\n",
       "      <td>0.000</td>\n",
       "      <td>0.000</td>\n",
       "      <td>0.006</td>\n",
       "    </tr>\n",
       "    <tr>\n",
       "      <td>has_qnr</td>\n",
       "      <td>0.005</td>\n",
       "      <td>0.000</td>\n",
       "      <td>0.000</td>\n",
       "      <td>0.000</td>\n",
       "      <td>0.000</td>\n",
       "      <td>0.005</td>\n",
       "    </tr>\n",
       "    <tr>\n",
       "      <td>CP009072.1_459777</td>\n",
       "      <td>0.001</td>\n",
       "      <td>0.002</td>\n",
       "      <td>0.000</td>\n",
       "      <td>0.002</td>\n",
       "      <td>0.000</td>\n",
       "      <td>0.005</td>\n",
       "    </tr>\n",
       "  </tbody>\n",
       "</table>\n",
       "</div>"
      ],
      "text/plain": [
       "country                 Denmark  Italy    USA  United Kingdom  Viet Nam    sum\n",
       "feat                                                                          \n",
       "CP009072.1_167295         0.555  0.567  0.570           0.558     0.010  2.260\n",
       "CP009072.1_167306         0.114  0.148  0.107           0.141     0.690  1.200\n",
       "CP009072.1_1589734        0.181  0.151  0.199           0.172     0.001  0.705\n",
       "has_qnrS                  0.042  0.039  0.019           0.037     0.004  0.140\n",
       "qnrS1_1_AB187515          0.012  0.007  0.017           0.004     0.000  0.041\n",
       "blaCTX-M-55_1_DQ810789    0.002  0.009  0.009           0.013     0.000  0.033\n",
       "blaVIM-48_1_KY362199      0.004  0.001  0.016           0.002     0.000  0.022\n",
       "CP009072.1_3517597        0.000  0.000  0.000           0.000     0.013  0.014\n",
       "CP009072.1_1734215        0.000  0.000  0.000           0.000     0.008  0.009\n",
       "blaCTX-M-14_1_AF252622    0.000  0.002  0.002           0.003     0.000  0.008\n",
       "CP009072.1_3517591        0.000  0.000  0.000           0.000     0.007  0.007\n",
       "CP009072.1_113480         0.000  0.000  0.000           0.000     0.005  0.006\n",
       "CP009072.1_1205372        0.003  0.002  0.001           0.000     0.000  0.006\n",
       "has_qnr                   0.005  0.000  0.000           0.000     0.000  0.005\n",
       "CP009072.1_459777         0.001  0.002  0.000           0.002     0.000  0.005"
      ]
     },
     "execution_count": 14,
     "metadata": {},
     "output_type": "execute_result"
    }
   ],
   "source": [
    "imp_pivot.sort_values('sum', ascending=False).head(15).round(3)"
   ]
  },
  {
   "cell_type": "markdown",
   "metadata": {},
   "source": [
    "**Save the top50 features to a smaller table for easier/lighter further ML training.**"
   ]
  },
  {
   "cell_type": "code",
   "execution_count": 16,
   "metadata": {},
   "outputs": [],
   "source": [
    "top50_feat = imp_pivot.sort_values('sum', ascending=False).head(50).index.tolist()"
   ]
  },
  {
   "cell_type": "code",
   "execution_count": 17,
   "metadata": {},
   "outputs": [],
   "source": [
    "allDF[['sample_alias', 'country', 'measurement', 'measurement_units'] \n",
    "      + top50_feat].to_csv(f'{base}merged_top50.csv', index=False)"
   ]
  }
 ],
 "metadata": {
  "kernelspec": {
   "display_name": "Python 3",
   "language": "python",
   "name": "python3"
  },
  "language_info": {
   "codemirror_mode": {
    "name": "ipython",
    "version": 3
   },
   "file_extension": ".py",
   "mimetype": "text/x-python",
   "name": "python",
   "nbconvert_exporter": "python",
   "pygments_lexer": "ipython3",
   "version": "3.6.5"
  }
 },
 "nbformat": 4,
 "nbformat_minor": 2
}
